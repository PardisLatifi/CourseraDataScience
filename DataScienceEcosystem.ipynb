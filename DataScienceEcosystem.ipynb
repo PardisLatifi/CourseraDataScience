{
 "cells": [
  {
   "cell_type": "markdown",
   "id": "295c4857-4ac3-40e4-8242-adbc02b2b82e",
   "metadata": {},
   "source": [
    "<h1>Data Science Tools and Ecosystem</h1>"
   ]
  },
  {
   "cell_type": "markdown",
   "id": "08a03b5e-116b-497e-85f9-ed8e8f8cf3c1",
   "metadata": {},
   "source": [
    "<h2>In this notebook, Data Science Tools and Ecosystem are summarized.\n",
    "</h2>"
   ]
  },
  {
   "cell_type": "markdown",
   "id": "ba4be2ac-2919-4e00-8cfc-8fb64da4d168",
   "metadata": {},
   "source": [
    "<h3>Some of the popular languages that Data Scientists use are:\n",
    "</h3>"
   ]
  },
  {
   "cell_type": "markdown",
   "id": "d5d49cc0-8fd1-40b0-ba29-979a57927539",
   "metadata": {},
   "source": [
    "1. Python\n",
    "2. R\n",
    "3. SQL"
   ]
  },
  {
   "cell_type": "markdown",
   "id": "a0f6df3f-6595-426c-b5b4-96f5d3fd9a53",
   "metadata": {},
   "source": [
    "<h2>Some of the commonly used libraries used by Data Scientists include:</h2>"
   ]
  },
  {
   "cell_type": "markdown",
   "id": "aa71ec78-0b56-48f4-83bd-2a823bfa978b",
   "metadata": {},
   "source": [
    "1. Pandas\n",
    "2. NumPy\n",
    "3. Matplotlib\n",
    "4. Scikit-learn\n",
    "5. TensorFlow/PyTorch"
   ]
  },
  {
   "cell_type": "markdown",
   "id": "25075d6a-0339-4045-9711-5537c06e5f86",
   "metadata": {},
   "source": [
    "| Data Science Tools     |\n",
    "|------------------------|\n",
    "| Jupyter Notebook       |\n",
    "| RStudio                |\n",
    "| Apache Zeppelin        |"
   ]
  },
  {
   "cell_type": "markdown",
   "id": "30af934c-c73a-429a-ad14-4068fe41ccd2",
   "metadata": {},
   "source": [
    "<h3>Below are a few examples of evaluating arithmetic expressions in Python.\n",
    "</h3>"
   ]
  },
  {
   "cell_type": "code",
   "execution_count": 18,
   "id": "7e9a8a86-0ef2-4a44-ab0e-5a6994ff2be3",
   "metadata": {},
   "outputs": [
    {
     "data": {
      "text/plain": [
       "17"
      ]
     },
     "execution_count": 18,
     "metadata": {},
     "output_type": "execute_result"
    }
   ],
   "source": [
    "# This is a simple arithmetic expression to multiply then add integers.\n",
    "(3 * 4) + 5"
   ]
  },
  {
   "cell_type": "code",
   "execution_count": 20,
   "id": "7599813b-d4f0-4ee0-9a14-f695cfa56696",
   "metadata": {},
   "outputs": [
    {
     "data": {
      "text/plain": [
       "3.3333333333333335"
      ]
     },
     "execution_count": 20,
     "metadata": {},
     "output_type": "execute_result"
    }
   ],
   "source": [
    "# This will convert 200 minutes to hours by dividing by 60.\n",
    "hours = 200 / 60\n",
    "hours"
   ]
  },
  {
   "cell_type": "markdown",
   "id": "092f1c66-4a17-4a13-bd81-4e21e3e9ceca",
   "metadata": {},
   "source": [
    "**Objectives:**\n",
    "\n",
    "- List popular languages for Data Science.\n",
    "- Identify commonly used libraries in data science.\n",
    "- Create simple arithmetic expressions and comments in Python.\n",
    "- Convert time units (minutes to hours).\n",
    "- Create and format tables in Jupyter Notebook."
   ]
  },
  {
   "cell_type": "markdown",
   "id": "755888b0-40f5-4db6-80d5-3d9cd2d0065c",
   "metadata": {},
   "source": [
    "<h2>Author</h2>\n",
    "Ali Latifi"
   ]
  },
  {
   "cell_type": "code",
   "execution_count": null,
   "id": "6d07f707-2152-4b15-bc56-7e1520bd081a",
   "metadata": {},
   "outputs": [],
   "source": []
  }
 ],
 "metadata": {
  "kernelspec": {
   "display_name": "Python 3 (ipykernel)",
   "language": "python",
   "name": "python3"
  },
  "language_info": {
   "codemirror_mode": {
    "name": "ipython",
    "version": 3
   },
   "file_extension": ".py",
   "mimetype": "text/x-python",
   "name": "python",
   "nbconvert_exporter": "python",
   "pygments_lexer": "ipython3",
   "version": "3.11.4"
  }
 },
 "nbformat": 4,
 "nbformat_minor": 5
}
